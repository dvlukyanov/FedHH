{
 "cells": [
  {
   "cell_type": "code",
   "execution_count": 1,
   "id": "51b8fa0f-ab41-490b-834a-9374b1938ca2",
   "metadata": {
    "tags": []
   },
   "outputs": [],
   "source": [
    "import sys\n",
    "import logging\n",
    "import argparse\n",
    "import optuna\n",
    "import torch\n",
    "import torch.nn as nn\n",
    "from torch.utils.data import DataLoader, random_split\n",
    "from models.model_factory import ModelFactory\n",
    "from data.dataset import CustomImageDataset"
   ]
  },
  {
   "cell_type": "code",
   "execution_count": 2,
   "id": "01ea8d2a-26c0-4322-a134-24d24023dc16",
   "metadata": {
    "tags": []
   },
   "outputs": [],
   "source": [
    "SEED = 0\n",
    "BATCH_SIZE = 64\n",
    "MODEL = 'resnet18'\n",
    "IMG_DIR = '/scratch/dlukyan/mini/images'\n",
    "LABELS_FILE = '/scratch/dlukyan/mini/labels.csv'\n",
    "DATA_LOADER_WORKERS = 2"
   ]
  },
  {
   "cell_type": "code",
   "execution_count": 3,
   "id": "4ee52457-2841-4397-a7d1-288d4d7fcbbd",
   "metadata": {},
   "outputs": [
    {
     "name": "stdout",
     "output_type": "stream",
     "text": [
      "CUDA devices: 2\n"
     ]
    }
   ],
   "source": [
    "print(f'CUDA devices: {torch.cuda.device_count()}')"
   ]
  },
  {
   "cell_type": "code",
   "execution_count": 4,
   "id": "decc7bcd-419c-4163-98a3-0115d34f689f",
   "metadata": {
    "tags": []
   },
   "outputs": [],
   "source": [
    "def objective(trial, model_name, img_dir, labels_file):\n",
    "    batch_size = BATCH_SIZE * torch.cuda.device_count()\n",
    "\n",
    "    dataset = CustomImageDataset(img_dir=img_dir, labels_file=labels_file)\n",
    "    train_size = int(0.8 * len(dataset))\n",
    "    valid_size = len(dataset) - train_size\n",
    "    train_dataset, valid_dataset = random_split(dataset, [train_size, valid_size])\n",
    "    train_loader = DataLoader(train_dataset, batch_size=batch_size, shuffle=True, num_workers=DATA_LOADER_WORKERS*torch.cuda.device_count(), prefetch_factor=DATA_LOADER_WORKERS*4)\n",
    "    valid_loader = DataLoader(valid_dataset, batch_size=batch_size, shuffle=False, num_workers=DATA_LOADER_WORKERS*torch.cuda.device_count(), prefetch_factor=DATA_LOADER_WORKERS*4)\n",
    "\n",
    "    model_instance = ModelFactory.create_model(model_name, trial)\n",
    "\n",
    "    model = model_instance.get_model()\n",
    "    optimizer = model_instance.get_tuning_optimizer(model)\n",
    "    scheduler = model_instance.get_tuning_scheduler(optimizer)\n",
    "    device = torch.device(\"cuda\" if torch.cuda.is_available() else \"cpu\")\n",
    "    print(f'Device: {device}')\n",
    "    \n",
    "    if torch.cuda.device_count() > 1:\n",
    "        model = nn.DataParallel(model)\n",
    "    \n",
    "    model.to(device)\n",
    "\n",
    "    criterion = nn.CrossEntropyLoss()\n",
    "\n",
    "    n_epochs = 10\n",
    "    for epoch in range(n_epochs):\n",
    "        train_loss = model_instance.train_model(model, train_loader, criterion, optimizer, scheduler, device)\n",
    "        valid_loss, accuracy = model_instance.validate_model(model, valid_loader, criterion, device)\n",
    "        trial.report(accuracy, epoch)\n",
    "        if trial.should_prune():\n",
    "            raise optuna.TrialPruned()\n",
    "    \n",
    "    return accuracy"
   ]
  },
  {
   "cell_type": "code",
   "execution_count": null,
   "id": "ea498580-6dde-48d8-88b5-468753155c9d",
   "metadata": {
    "tags": []
   },
   "outputs": [
    {
     "name": "stderr",
     "output_type": "stream",
     "text": [
      "[I 2024-07-16 15:50:43,025] A new study created in memory with name: no-name-9f8a3073-6ce1-4e93-af46-e90a1b228ae6\n"
     ]
    },
    {
     "name": "stdout",
     "output_type": "stream",
     "text": [
      "A new study created in memory with name: no-name-9f8a3073-6ce1-4e93-af46-e90a1b228ae6\n",
      "Device: cuda\n"
     ]
    },
    {
     "name": "stderr",
     "output_type": "stream",
     "text": [
      "[I 2024-07-16 16:05:52,876] Trial 0 finished with value: 48.25 and parameters: {'learning_rate': 0.00044303752452182633, 'beta1': 0.9358859796107597, 'beta2': 0.9596735742310928, 'eps': 1.229607110732571e-07, 'weight_decay': 0.0042365479933890475, 'scheduler_type': 'CosineAnnealingLR', 'T_max': 49, 'eta_min': 0.0038344151882577773}. Best is trial 0 with value: 48.25.\n"
     ]
    },
    {
     "name": "stdout",
     "output_type": "stream",
     "text": [
      "Trial 0 finished with value: 48.25 and parameters: {'learning_rate': 0.00044303752452182633, 'beta1': 0.9358859796107597, 'beta2': 0.9596735742310928, 'eps': 1.229607110732571e-07, 'weight_decay': 0.0042365479933890475, 'scheduler_type': 'CosineAnnealingLR', 'T_max': 49, 'eta_min': 0.0038344151882577773}. Best is trial 0 with value: 48.25.\n",
      "Device: cuda\n"
     ]
    },
    {
     "name": "stderr",
     "output_type": "stream",
     "text": [
      "[D 2024-07-16 16:07:07,541] Hyperband has 3 brackets\n"
     ]
    },
    {
     "name": "stdout",
     "output_type": "stream",
     "text": [
      "Hyperband has 3 brackets\n"
     ]
    },
    {
     "name": "stderr",
     "output_type": "stream",
     "text": [
      "[D 2024-07-16 16:07:07,542] 2th bracket is selected\n"
     ]
    },
    {
     "name": "stdout",
     "output_type": "stream",
     "text": [
      "2th bracket is selected\n"
     ]
    },
    {
     "name": "stderr",
     "output_type": "stream",
     "text": [
      "[D 2024-07-16 16:08:25,550] 2th bracket is selected\n"
     ]
    },
    {
     "name": "stdout",
     "output_type": "stream",
     "text": [
      "2th bracket is selected\n"
     ]
    },
    {
     "name": "stderr",
     "output_type": "stream",
     "text": [
      "[D 2024-07-16 16:09:40,925] 2th bracket is selected\n"
     ]
    },
    {
     "name": "stdout",
     "output_type": "stream",
     "text": [
      "2th bracket is selected\n"
     ]
    },
    {
     "name": "stderr",
     "output_type": "stream",
     "text": [
      "[D 2024-07-16 16:11:31,100] 2th bracket is selected\n"
     ]
    },
    {
     "name": "stdout",
     "output_type": "stream",
     "text": [
      "2th bracket is selected\n"
     ]
    },
    {
     "name": "stderr",
     "output_type": "stream",
     "text": [
      "[D 2024-07-16 16:12:46,160] 2th bracket is selected\n"
     ]
    },
    {
     "name": "stdout",
     "output_type": "stream",
     "text": [
      "2th bracket is selected\n"
     ]
    },
    {
     "name": "stderr",
     "output_type": "stream",
     "text": [
      "[D 2024-07-16 16:14:07,135] 2th bracket is selected\n"
     ]
    },
    {
     "name": "stdout",
     "output_type": "stream",
     "text": [
      "2th bracket is selected\n"
     ]
    },
    {
     "name": "stderr",
     "output_type": "stream",
     "text": [
      "[D 2024-07-16 16:15:21,795] 2th bracket is selected\n"
     ]
    },
    {
     "name": "stdout",
     "output_type": "stream",
     "text": [
      "2th bracket is selected\n"
     ]
    },
    {
     "name": "stderr",
     "output_type": "stream",
     "text": [
      "[D 2024-07-16 16:16:36,060] 2th bracket is selected\n"
     ]
    },
    {
     "name": "stdout",
     "output_type": "stream",
     "text": [
      "2th bracket is selected\n"
     ]
    },
    {
     "name": "stderr",
     "output_type": "stream",
     "text": [
      "[D 2024-07-16 16:17:51,312] 2th bracket is selected\n"
     ]
    },
    {
     "name": "stdout",
     "output_type": "stream",
     "text": [
      "2th bracket is selected\n"
     ]
    },
    {
     "name": "stderr",
     "output_type": "stream",
     "text": [
      "[D 2024-07-16 16:19:10,454] 2th bracket is selected\n"
     ]
    },
    {
     "name": "stdout",
     "output_type": "stream",
     "text": [
      "2th bracket is selected\n"
     ]
    },
    {
     "name": "stderr",
     "output_type": "stream",
     "text": [
      "[I 2024-07-16 16:19:10,458] Trial 1 finished with value: 52.6 and parameters: {'learning_rate': 0.0023723300729921923, 'beta1': 0.9004900347530519, 'beta2': 0.9562364115482993, 'eps': 7.098936257405904e-07, 'weight_decay': 0.0007103605819788694, 'scheduler_type': 'CosineAnnealingLR', 'T_max': 41, 'eta_min': 0.008700121482468192}. Best is trial 1 with value: 52.6.\n"
     ]
    },
    {
     "name": "stdout",
     "output_type": "stream",
     "text": [
      "Trial 1 finished with value: 52.6 and parameters: {'learning_rate': 0.0023723300729921923, 'beta1': 0.9004900347530519, 'beta2': 0.9562364115482993, 'eps': 7.098936257405904e-07, 'weight_decay': 0.0007103605819788694, 'scheduler_type': 'CosineAnnealingLR', 'T_max': 41, 'eta_min': 0.008700121482468192}. Best is trial 1 with value: 52.6.\n",
      "Device: cuda\n"
     ]
    },
    {
     "name": "stderr",
     "output_type": "stream",
     "text": [
      "[D 2024-07-16 16:20:30,213] 0th bracket is selected\n"
     ]
    },
    {
     "name": "stdout",
     "output_type": "stream",
     "text": [
      "0th bracket is selected\n"
     ]
    },
    {
     "name": "stderr",
     "output_type": "stream",
     "text": [
      "[D 2024-07-16 16:21:48,799] 0th bracket is selected\n"
     ]
    },
    {
     "name": "stdout",
     "output_type": "stream",
     "text": [
      "0th bracket is selected\n"
     ]
    },
    {
     "name": "stderr",
     "output_type": "stream",
     "text": [
      "[D 2024-07-16 16:23:08,188] 0th bracket is selected\n"
     ]
    },
    {
     "name": "stdout",
     "output_type": "stream",
     "text": [
      "0th bracket is selected\n"
     ]
    },
    {
     "name": "stderr",
     "output_type": "stream",
     "text": [
      "[D 2024-07-16 16:24:27,889] 0th bracket is selected\n"
     ]
    },
    {
     "name": "stdout",
     "output_type": "stream",
     "text": [
      "0th bracket is selected\n"
     ]
    },
    {
     "name": "stderr",
     "output_type": "stream",
     "text": [
      "[D 2024-07-16 16:25:49,453] 0th bracket is selected\n"
     ]
    },
    {
     "name": "stdout",
     "output_type": "stream",
     "text": [
      "0th bracket is selected\n"
     ]
    },
    {
     "name": "stderr",
     "output_type": "stream",
     "text": [
      "[D 2024-07-16 16:27:22,655] 0th bracket is selected\n"
     ]
    },
    {
     "name": "stdout",
     "output_type": "stream",
     "text": [
      "0th bracket is selected\n"
     ]
    }
   ],
   "source": [
    "optuna.logging.get_logger(\"optuna\").addHandler(logging.StreamHandler(sys.stdout))\n",
    "optuna.logging.set_verbosity(optuna.logging.DEBUG)\n",
    "study = optuna.create_study(direction='maximize', sampler=optuna.samplers.TPESampler(seed=SEED), pruner=optuna.pruners.HyperbandPruner())\n",
    "study.optimize(lambda trial: objective(trial, MODEL, IMG_DIR, LABELS_FILE), n_trials=200)\n",
    "\n",
    "print('Best trial:')\n",
    "trial = study.best_trial\n",
    "print('  Value: {}'.format(trial.value))\n",
    "print('  Params: ')\n",
    "for key, value in trial.params.items():\n",
    "    print('    {}: {}'.format(key, value))"
   ]
  }
 ],
 "metadata": {
  "kernelspec": {
   "display_name": "thesis",
   "language": "python",
   "name": "thesis"
  },
  "language_info": {
   "codemirror_mode": {
    "name": "ipython",
    "version": 3
   },
   "file_extension": ".py",
   "mimetype": "text/x-python",
   "name": "python",
   "nbconvert_exporter": "python",
   "pygments_lexer": "ipython3",
   "version": "3.11.8"
  }
 },
 "nbformat": 4,
 "nbformat_minor": 5
}
